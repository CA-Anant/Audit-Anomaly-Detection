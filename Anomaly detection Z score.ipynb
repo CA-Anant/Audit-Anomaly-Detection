{
 "cells": [
  {
   "cell_type": "markdown",
   "id": "01008e50",
   "metadata": {},
   "source": [
    "# Selecting dataset"
   ]
  },
  {
   "cell_type": "code",
   "execution_count": 1,
   "id": "a19d20c1",
   "metadata": {},
   "outputs": [],
   "source": [
    "import numpy as np\n",
    "import scipy.stats as stats\n",
    "import pandas as pd\n",
    "import seaborn as sns"
   ]
  },
  {
   "cell_type": "code",
   "execution_count": 22,
   "id": "d7306770",
   "metadata": {
    "scrolled": true
   },
   "outputs": [
    {
     "name": "stdout",
     "output_type": "stream",
     "text": 
    }
   ],
   "source": [
    "# # specify the file path\n",
    "file_path = input('Enter the file path: ')\n",
    "\n",
    "# get file name from user\n",
    "file_name = input('Enter the file name with extension: ')\n",
    "\n",
    "# specify the file path\n",
    "file= file_path +'/' +file_name\n",
    "\n",
    "#Columns to be used\n",
    "clmn =input('Enter the column indeces you want to use, seperated by commas ')\n",
    "\n",
    "# Reading specific columns from excel sheet                \n",
    "df = pd.read_excel(file, index_col=None, na_values=['NA'], usecols=clmn)\n",
    "\n",
    "print('Preview of dataset chosen')\n",
    "print(df.head())"
   ]
  },
  {
   "cell_type": "code",
   "execution_count": 23,
   "id": "e906740b",
   "metadata": {
    "scrolled": true
   },
   "outputs": [
    {
     "name": "stdout",
     "output_type": "stream",
     "text": [
      "From the above preview, enter the column number which contains the numeric data3\n",
      "0     3380\n",
      "1     2160\n",
      "2    20337\n",
      "3     2160\n",
      "4     2160\n",
      "Name: Debit Amount, dtype: int64\n"
     ]
    }
   ],
   "source": [
    "#Selecting the column which contains the data values\n",
    "data = int(input('From the above preview, enter the column number which contains the numeric data'))\n",
    "x = df.iloc[:,data-1]\n",
    "print(x.head())"
   ]
  },
  {
   "cell_type": "markdown",
   "id": "c96c47cf",
   "metadata": {},
   "source": [
    "# Outlier Using Z Score"
   ]
  },
  {
   "cell_type": "code",
   "execution_count": 27,
   "id": "bd7cabe4",
   "metadata": {
    "scrolled": true
   },
   "outputs": [
    {
     "name": "stdout",
     "output_type": "stream",
     "text": 
    }
   ],
   "source": [
    "z = np.abs(stats.zscore(x))\n",
    "# print(z)\n",
    "\n",
    "# Checking z score against a threshold(which is always subjective) to detect outlier\n",
    "threshold = int(input('Please enter the threshold against which to detect outlier '))\n",
    "outlier = np.where(z > threshold)\n",
    "# print(outlier)\n",
    "\n",
    "# Print The outlier dataset along with voucher numbers(or any other primary key)\n",
    "audit_sample = df.iloc[outlier]\n",
    "print(\"Here are the audit anomaly dataset as per the threshold\")\n",
    "print(audit_sample)\n",
    "\n",
    "# Create a new excel file with the outlier data\n",
    "new_file=input('Please enter a file name to store the above observations ')\n",
    "audit_sample.to_excel(file_path+'/'+new_file+'.xlsx')\n",
    "print('The audit anomalies are saved to the same folder with file name as '+ new_file)"
   ]
  }
 ],
 "metadata": {
  "kernelspec": {
   "display_name": "Python 3 (ipykernel)",
   "language": "python",
   "name": "python3"
  },
  "language_info": {
   "codemirror_mode": {
    "name": "ipython",
    "version": 3
   },
   "file_extension": ".py",
   "mimetype": "text/x-python",
   "name": "python",
   "nbconvert_exporter": "python",
   "pygments_lexer": "ipython3",
   "version": "3.9.13"
  }
 },
 "nbformat": 4,
 "nbformat_minor": 5
}
